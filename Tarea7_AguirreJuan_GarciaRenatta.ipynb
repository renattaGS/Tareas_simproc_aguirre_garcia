{
 "cells": [
  {
   "cell_type": "markdown",
   "metadata": {},
   "source": [
    "<img style=\"float: left; margin: 30px 15px 15px 15px;\" src=\"https://pngimage.net/wp-content/uploads/2018/06/logo-iteso-png-5.png\" width=\"300\" height=\"500\" /> \n",
    "    \n",
    "    \n",
    "### <font color='navy'> Simulación de procesos financieros. \n",
    "\n",
    "**Nombres:** Renatta Garcia Sanchez, Juan Enrique Aguirre López\n",
    "\n",
    "**Fecha:**  22 de octubre del 2020.\n",
    "\n",
    "**Expediente** : 703275 ,722664 \n",
    "**Profesor:** Oscar David Jaramillo Zuluaga.\n",
    "    \n",
    "**Liga repositorio:** https://github.com/renattaGS/Tareas_simproc_aguirre_garcia\n",
    "\n",
    "# Tarea 7: Clase 14"
   ]
  },
  {
   "attachments": {
    "imagen.png": {
     "image/png": "[encoded data removed]"
    }
   },
   "cell_type": "markdown",
   "metadata": {},
   "source": [
    "## Ejercicio 1\n",
    "\n",
    "Aproxime el valor de la siguiente integral usando el método monte carlo crudo y método de reducción de varianza de muestreo estratíficado\n",
    "\n",
    "$$I=\\int_{0}^{1}x^2\\text{d}x=\\left.\\frac{x^3}{3}\\right|_{x=0}^{x=1}=\\frac{1}{3}\\approx 0.33333$$\n",
    "\n",
    "Pasos\n",
    "1. Cree una función que realice el método de muestreo estratíficado, recibiendo como único parámetro de entrada la cantidad de estratos y retornando las variables estratíficadas correspondientes.\n",
    "2. Reporte los resultados de la aproximación de la integral usando montecarlo crudo y muestreo estratíficado, en un Dataframe con la información mostrada en la siguiente imagen:\n",
    "![imagen.png](attachment:imagen.png)"
   ]
  },
  {
   "cell_type": "markdown",
   "metadata": {},
   "source": [
    "## Solución Juan Enrique"
   ]
  },
  {
   "cell_type": "code",
   "execution_count": 1,
   "metadata": {},
   "outputs": [],
   "source": [
    "import numpy as np\n",
    "from functools import reduce\n",
    "import time\n",
    "import matplotlib.pyplot as plt\n",
    "import scipy.stats as st     # Librería estadística\n",
    "import pandas as pd"
   ]
  },
  {
   "cell_type": "code",
   "execution_count": 2,
   "metadata": {},
   "outputs": [],
   "source": [
    "# Integración montecarlo\n",
    "def int_montecarlo(f:'Función a integrar',\n",
    "                   a:'Límite inferior de la integral',\n",
    "                   b:'Límite superior de la integral',\n",
    "                   U:'Muestra de números U~[a,b]'):\n",
    "    return (b-a)/len(U)*np.sum(f(U))"
   ]
  },
  {
   "cell_type": "code",
   "execution_count": 3,
   "metadata": {},
   "outputs": [],
   "source": [
    "# Aproximar integrales con Montecarlo estratificado\n",
    "def Montecarlo_est(B: 'Número de estratos'):\n",
    "    '''Esta es una función general para aproximar integrales de acuerdo con un numero específico de estratos que se definan'''\n",
    "    u = np.random.uniform(a,b,B) #primero generamos las v.a. que seran evaluadas en la funcion que queramos integrar\n",
    "    i = np.arange(0,B) #indica los términos, desde 0 hasta los 'B' estratos que se elijan\n",
    "    v = (u+i)/B #aplicar estratificación\n",
    "    return v"
   ]
  },
  {
   "cell_type": "code",
   "execution_count": 4,
   "metadata": {},
   "outputs": [
    {
     "data": {
      "text/html": [
       "<div>\n",
       "<style scoped>\n",
       "    .dataframe tbody tr th:only-of-type {\n",
       "        vertical-align: middle;\n",
       "    }\n",
       "\n",
       "    .dataframe tbody tr th {\n",
       "        vertical-align: top;\n",
       "    }\n",
       "\n",
       "    .dataframe thead th {\n",
       "        text-align: right;\n",
       "    }\n",
       "</style>\n",
       "<table border=\"1\" class=\"dataframe\">\n",
       "  <thead>\n",
       "    <tr style=\"text-align: right;\">\n",
       "      <th></th>\n",
       "      <th>Valor_montecarlo_crudo</th>\n",
       "      <th>Error_relativo_crudo%</th>\n",
       "      <th>Valor_montecarlo_estr</th>\n",
       "      <th>Error_relativo_estr%</th>\n",
       "    </tr>\n",
       "    <tr>\n",
       "      <th>Cantidad_terminos</th>\n",
       "      <th></th>\n",
       "      <th></th>\n",
       "      <th></th>\n",
       "      <th></th>\n",
       "    </tr>\n",
       "  </thead>\n",
       "  <tbody>\n",
       "    <tr>\n",
       "      <th>10</th>\n",
       "      <td>0.364004</td>\n",
       "      <td>9.201251</td>\n",
       "      <td>0.321011</td>\n",
       "      <td>3.696697e+00</td>\n",
       "    </tr>\n",
       "    <tr>\n",
       "      <th>100</th>\n",
       "      <td>0.271613</td>\n",
       "      <td>18.516202</td>\n",
       "      <td>0.333181</td>\n",
       "      <td>4.579079e-02</td>\n",
       "    </tr>\n",
       "    <tr>\n",
       "      <th>1000</th>\n",
       "      <td>0.326401</td>\n",
       "      <td>2.079576</td>\n",
       "      <td>0.333323</td>\n",
       "      <td>3.085668e-03</td>\n",
       "    </tr>\n",
       "    <tr>\n",
       "      <th>10000</th>\n",
       "      <td>0.332812</td>\n",
       "      <td>0.156447</td>\n",
       "      <td>0.333333</td>\n",
       "      <td>4.098249e-05</td>\n",
       "    </tr>\n",
       "    <tr>\n",
       "      <th>100000</th>\n",
       "      <td>0.333519</td>\n",
       "      <td>0.055621</td>\n",
       "      <td>0.333333</td>\n",
       "      <td>1.968282e-06</td>\n",
       "    </tr>\n",
       "    <tr>\n",
       "      <th>1000000</th>\n",
       "      <td>0.333564</td>\n",
       "      <td>0.069324</td>\n",
       "      <td>0.333333</td>\n",
       "      <td>5.307573e-08</td>\n",
       "    </tr>\n",
       "    <tr>\n",
       "      <th>10000000</th>\n",
       "      <td>0.333396</td>\n",
       "      <td>0.018777</td>\n",
       "      <td>0.333333</td>\n",
       "      <td>1.314399e-09</td>\n",
       "    </tr>\n",
       "  </tbody>\n",
       "</table>\n",
       "</div>"
      ],
      "text/plain": [
       "                   Valor_montecarlo_crudo  Error_relativo_crudo%  \\\n",
       "Cantidad_terminos                                                  \n",
       "10                               0.364004               9.201251   \n",
       "100                              0.271613              18.516202   \n",
       "1000                             0.326401               2.079576   \n",
       "10000                            0.332812               0.156447   \n",
       "100000                           0.333519               0.055621   \n",
       "1000000                          0.333564               0.069324   \n",
       "10000000                         0.333396               0.018777   \n",
       "\n",
       "                   Valor_montecarlo_estr  Error_relativo_estr%  \n",
       "Cantidad_terminos                                               \n",
       "10                              0.321011          3.696697e+00  \n",
       "100                             0.333181          4.579079e-02  \n",
       "1000                            0.333323          3.085668e-03  \n",
       "10000                           0.333333          4.098249e-05  \n",
       "100000                          0.333333          1.968282e-06  \n",
       "1000000                         0.333333          5.307573e-08  \n",
       "10000000                        0.333333          1.314399e-09  "
      ]
     },
     "execution_count": 4,
     "metadata": {},
     "output_type": "execute_result"
    }
   ],
   "source": [
    "I = 1/3\n",
    "# intervalo de integración\n",
    "a = 0; b = 1\n",
    "\n",
    "# Cantidad de términos, en escala logarítmica\n",
    "N = np.logspace(1,7,7,dtype=int)\n",
    "\n",
    "# Definimos la tabla donde se mostrarán los resultados\n",
    "df = pd.DataFrame(index=N,columns=['Valor_montecarlo_crudo', 'Error_relativo_crudo%', \n",
    "                                   'Valor_montecarlo_estr', 'Error_relativo_estr%'], dtype='float')\n",
    "df.index.name = \"Cantidad_terminos\"\n",
    "\n",
    "# Números aleatorios dependiente de la cantidad de términos N\n",
    "ui = list(map(lambda N:np.random.uniform(a,b,N),N))\n",
    "u_estr = list(map(Montecarlo_est, N)) #hacer el estratificado\n",
    "\n",
    "# Calculamos la aproximación por montecarlo dependiendo de la cantidad de\n",
    "# términos que hayamos creado con ui\n",
    "I_m = list(map(lambda Y: int_montecarlo(lambda x:x**2,a,b,Y), ui))\n",
    "#Aproximacion con los u_estr generados\n",
    "I_estr = list(map(lambda Y: int_montecarlo(lambda x:x**2,a,b,Y), u_estr))\n",
    "\n",
    "# Mostramos los resultados en la tabla previamente creada\n",
    "df.loc[N,'Valor_montecarlo_crudo'] = I_m\n",
    "df.loc[N,'Error_relativo_crudo%'] = np.abs(df.loc[N, 'Valor_montecarlo_crudo']-I)*100/I\n",
    "\n",
    "df.loc[N, 'Valor_montecarlo_estr'] = I_estr\n",
    "df.loc[N, 'Error_relativo_estr%'] = np.abs(df.loc[N, 'Valor_montecarlo_estr']-I)*100/I\n",
    "\n",
    "df"
   ]
  },
  {
   "cell_type": "markdown",
   "metadata": {},
   "source": [
    "## Solución Renatta "
   ]
  },
  {
   "cell_type": "code",
   "execution_count": 5,
   "metadata": {},
   "outputs": [],
   "source": [
    "import pandas as pd\n",
    "import numpy as np\n",
    "\n",
    "def int_montecarlo(f:'Función a integrar',\n",
    "                   a:'Límite inferior de la integral',\n",
    "                   b:'Límite superior de la integral',\n",
    "                   U:'Muestra de números U~[a,b]'):\n",
    "    return (b-a)/len(U)*np.sum(f(U))\n",
    "\n",
    "def muestreo_est(B: 'Número de estratos'):\n",
    "    '''Esta función realiza el método de muestro estratíficado para un número de estratos dados'''\n",
    "    np.random.seed(95555)\n",
    "    u= np.random.uniform(a,b,B) #generar B valores aleatorios con distribución uniforme\n",
    "    i=np.arange(0,B) \n",
    "    v = (u+i)/B #aplicar estratificación\n",
    "    return v"
   ]
  },
  {
   "cell_type": "code",
   "execution_count": 6,
   "metadata": {},
   "outputs": [
    {
     "data": {
      "text/html": [
       "<div>\n",
       "<style scoped>\n",
       "    .dataframe tbody tr th:only-of-type {\n",
       "        vertical-align: middle;\n",
       "    }\n",
       "\n",
       "    .dataframe tbody tr th {\n",
       "        vertical-align: top;\n",
       "    }\n",
       "\n",
       "    .dataframe thead th {\n",
       "        text-align: right;\n",
       "    }\n",
       "</style>\n",
       "<table border=\"1\" class=\"dataframe\">\n",
       "  <thead>\n",
       "    <tr style=\"text-align: right;\">\n",
       "      <th></th>\n",
       "      <th>Montecarlo crudo</th>\n",
       "      <th>Error_relativo%</th>\n",
       "      <th>Muestreo estratificado</th>\n",
       "      <th>Error_relativo2%</th>\n",
       "    </tr>\n",
       "    <tr>\n",
       "      <th>Cantidad_terminos</th>\n",
       "      <th></th>\n",
       "      <th></th>\n",
       "      <th></th>\n",
       "      <th></th>\n",
       "    </tr>\n",
       "  </thead>\n",
       "  <tbody>\n",
       "    <tr>\n",
       "      <th>10</th>\n",
       "      <td>0.443372</td>\n",
       "      <td>33.011639</td>\n",
       "      <td>0.348300</td>\n",
       "      <td>4.490127e+00</td>\n",
       "    </tr>\n",
       "    <tr>\n",
       "      <th>100</th>\n",
       "      <td>0.359903</td>\n",
       "      <td>7.970757</td>\n",
       "      <td>0.333290</td>\n",
       "      <td>1.293137e-02</td>\n",
       "    </tr>\n",
       "    <tr>\n",
       "      <th>1000</th>\n",
       "      <td>0.340677</td>\n",
       "      <td>2.203144</td>\n",
       "      <td>0.333334</td>\n",
       "      <td>2.356385e-04</td>\n",
       "    </tr>\n",
       "    <tr>\n",
       "      <th>10000</th>\n",
       "      <td>0.329682</td>\n",
       "      <td>1.095546</td>\n",
       "      <td>0.333333</td>\n",
       "      <td>1.017211e-05</td>\n",
       "    </tr>\n",
       "    <tr>\n",
       "      <th>100000</th>\n",
       "      <td>0.334870</td>\n",
       "      <td>0.461052</td>\n",
       "      <td>0.333333</td>\n",
       "      <td>1.408574e-06</td>\n",
       "    </tr>\n",
       "    <tr>\n",
       "      <th>1000000</th>\n",
       "      <td>0.333389</td>\n",
       "      <td>0.016732</td>\n",
       "      <td>0.333333</td>\n",
       "      <td>1.318425e-07</td>\n",
       "    </tr>\n",
       "    <tr>\n",
       "      <th>10000000</th>\n",
       "      <td>0.333341</td>\n",
       "      <td>0.002348</td>\n",
       "      <td>0.333333</td>\n",
       "      <td>5.348905e-09</td>\n",
       "    </tr>\n",
       "  </tbody>\n",
       "</table>\n",
       "</div>"
      ],
      "text/plain": [
       "                   Montecarlo crudo  Error_relativo%  Muestreo estratificado  \\\n",
       "Cantidad_terminos                                                              \n",
       "10                         0.443372        33.011639                0.348300   \n",
       "100                        0.359903         7.970757                0.333290   \n",
       "1000                       0.340677         2.203144                0.333334   \n",
       "10000                      0.329682         1.095546                0.333333   \n",
       "100000                     0.334870         0.461052                0.333333   \n",
       "1000000                    0.333389         0.016732                0.333333   \n",
       "10000000                   0.333341         0.002348                0.333333   \n",
       "\n",
       "                   Error_relativo2%  \n",
       "Cantidad_terminos                    \n",
       "10                     4.490127e+00  \n",
       "100                    1.293137e-02  \n",
       "1000                   2.356385e-04  \n",
       "10000                  1.017211e-05  \n",
       "100000                 1.408574e-06  \n",
       "1000000                1.318425e-07  \n",
       "10000000               5.348905e-09  "
      ]
     },
     "execution_count": 6,
     "metadata": {},
     "output_type": "execute_result"
    }
   ],
   "source": [
    "I = 1/3 #resultado analítico de la integral\n",
    "# intervalo de integración\n",
    "a = 0; b = 1\n",
    "\n",
    "# Cantidad de términos, en escala logarítmica\n",
    "N = np.logspace(1,7,7,dtype=int)\n",
    "\n",
    "# data frame\n",
    "df = pd.DataFrame(index=N,columns=['Montecarlo crudo', 'Error_relativo%', \n",
    "                                   'Muestreo estratificado', 'Error_relativo2%' ], dtype='float')\n",
    "df.index.name = \"Cantidad_terminos\"\n",
    "\n",
    "# Números aleatorios dependiente de la cantidad de términos N\n",
    "ui = list(map(lambda N:np.random.uniform(a,b,N),N))\n",
    "ue= list(map(muestreo_est, N)) #estratificar los valores\n",
    "\n",
    "#aplicar método montecarlo con los ui generados\n",
    "I_m= [int_montecarlo(lambda x:x**2, a, b, Y) for Y in ui]\n",
    "#aplicar método montecarlo con varialbes estratificiadas \n",
    "I_e= [int_montecarlo(lambda x:x**2, a, b, Y) for Y in ue]\n",
    "\n",
    "\n",
    "\n",
    "df.loc[N,\"Montecarlo crudo\"] = I_m\n",
    "df.loc[N,\"Error_relativo%\"] = np.abs(df.loc[N,\"Montecarlo crudo\"]-I)*100/I\n",
    "\n",
    "df.loc[N,\"Muestreo estratificado\"] = I_e\n",
    "df.loc[N,\"Error_relativo2%\"] = np.abs(df.loc[N,\"Muestreo estratificado\"]-I)*100/I\n",
    "\n",
    "df\n"
   ]
  },
  {
   "attachments": {
    "imagen.png": {
     "image/png": "[encoded data removed]"
    }
   },
   "cell_type": "markdown",
   "metadata": {},
   "source": [
    "## Ejercicio 2\n",
    "\n",
    "![imagen.png](attachment:imagen.png)\n",
    "Además use el método de estratificación donde se divide en B estratos, visto la clase pasada y compare el resultado con los métodos anteriores cuando se toman $2,4,6,10$ estratos respectivamente, concluya."
   ]
  },
  {
   "cell_type": "markdown",
   "metadata": {},
   "source": [
    "## Solución Juan Enrique"
   ]
  },
  {
   "cell_type": "markdown",
   "metadata": {},
   "source": [
    "## Primero los pasos para hallar la inversa y F(x)"
   ]
  },
  {
   "cell_type": "markdown",
   "metadata": {},
   "source": [
    "$$f(x) = \\frac{3}{2}x^2  $$\n",
    "\n",
    "Integramos del limite inferior(-1) hasta x\n",
    "\n",
    "$$F(x)= \\int _{-1} ^x \\frac{3}{2} x^2 dx= (\\frac{1}{2}x^3)|_{-1} ^x = \\frac{1}{2} x^3 + \\frac{1}{2}$$\n",
    "\n",
    "$F(x) = \\frac{1}{2}x^3 + \\frac{1}{2} ....-> U = \\frac{1}{2}x^3 + \\frac{1}{2} ....-> \\sqrt[3] {2U-1} = x$ --> Funcion inversa con la que generaremos las v.a.\n",
    "\n",
    "Ahora debemos de caluclar la integral analíticamente para saber cual es el valor al que tenemos que llegar\n",
    "\n",
    "$$E(f(x))=\\int_{-1}^{1} x f(x) dx = \\frac{3}{2}x^2 * x  = \\int_{-1}^{1} \\frac{3}{2}x^3 dx = \\frac{3}{8} (x^4)|_{-1}^1 =0$$"
   ]
  },
  {
   "cell_type": "markdown",
   "metadata": {},
   "source": [
    "Para el inciso b), necesitare sacar los pesos, que basicamente serían de la siguiente manera:\n",
    "\n",
    "$$w_1 = \\frac{3/10}{0.6} = 1/2$$\n",
    "$$w_2 = \\frac{3/10}{0.3} = 1$$\n",
    "$$w_3 = \\frac{4/10}{0.1} = 4$$"
   ]
  },
  {
   "cell_type": "code",
   "execution_count": 4,
   "metadata": {},
   "outputs": [
    {
     "name": "stdout",
     "output_type": "stream",
     "text": [
      "Media con montecarlo crudo =  0.05745095021733365\n",
      "Media con montecarlo estratificado =  -0.08091502725476779\n",
      "La media estimada con el M.N.C es      =  0.0\n"
     ]
    }
   ],
   "source": [
    "N = 10\n",
    "#N = np.logspace(1,7,7,dtype=int)\n",
    "\n",
    "# Función inversa\n",
    "f_inv=lambda u: np.cbrt(2*u-1)\n",
    "\n",
    "I = 0\n",
    "# intervalo de integración\n",
    "a = 0; b = 1\n",
    "\n",
    "# MÉTODOS PARA APROXIMAR LA MEDIA DE LA DISTRIBUCIÓN \n",
    "# 1. Montecarlo crudo\n",
    "# Números aleatorios dependiente de la cantidad de términos N\n",
    "ui2 = np.random.uniform(a,b,N)\n",
    "\n",
    "I_m2 = f_inv(ui2)\n",
    "sol1 = I_m2.mean()\n",
    "\n",
    "print('Media con montecarlo crudo = ', sol1)\n",
    "\n",
    "# 2. Método estratificado \n",
    "r1 = np.random.uniform(0,0.6, 3)\n",
    "r2 = np.random.uniform(0.6,0.9, 3)\n",
    "r3 = np.random.uniform(0.9,1, 4)\n",
    "r  = [r1,r2,r3]\n",
    "\n",
    "w  = [1/2,1,4] #pesos\n",
    "\n",
    "xi = list(map(f_inv, r)) #evaluar r en la función para obtener xi\n",
    "u_est2 = list(map(lambda wi,xi: xi/wi, w,xi))\n",
    "\n",
    "sol2 = np.concatenate(u_est2).mean()\n",
    "\n",
    "print('Media con montecarlo estratificado = ', sol2)\n",
    "\n",
    "# 3. Método números complementarios\n",
    "# Generación de Números aleatorios\n",
    "ri1 = np.random.uniform(a,b,N)\n",
    "xi11 = np.cbrt(2*ri1-1)\n",
    "# Media de observaciones aleatorias\n",
    "m_rand = np.mean(xi11)\n",
    "#print('Media de observaciones aleatorias      = ', m_rand)\n",
    "\n",
    "# Números aleatorios complementarios\n",
    "ri_c = 1-ri1\n",
    "xi_c = np.cbrt(2*ri_c-1)\n",
    "# Media de observaciones complementarias\n",
    "m_comple = np.mean(xi_c)\n",
    "#print('Media de observaciones complementarias = ', m_comple)\n",
    "\n",
    "m_estimada = (m_rand+m_comple)/2\n",
    "print('La media estimada con el M.N.C es      = ',m_estimada)"
   ]
  },
  {
   "cell_type": "markdown",
   "metadata": {},
   "source": [
    "Ahora, con el mismo método de estratificación, pero tomando 2,4,6 y 10 estratos respectivamente"
   ]
  },
  {
   "cell_type": "code",
   "execution_count": 11,
   "metadata": {},
   "outputs": [
    {
     "name": "stdout",
     "output_type": "stream",
     "text": [
      "la media con 2 estratos es de: 0.08214664738722932\n"
     ]
    }
   ],
   "source": [
    "a = 0; b = 1\n",
    "u_22 = Montecarlo_est(2) #2,4,6,10\n",
    "print('la media con 2 estratos es de:', f_inv(u_22).mean())"
   ]
  },
  {
   "cell_type": "code",
   "execution_count": 12,
   "metadata": {},
   "outputs": [
    {
     "name": "stdout",
     "output_type": "stream",
     "text": [
      "la media con 4 estratos es de: -0.025481351670727015\n"
     ]
    }
   ],
   "source": [
    "a = 0; b = 1\n",
    "u_44 = Montecarlo_est(4) #2,4,6,10\n",
    "print('la media con 4 estratos es de:', f_inv(u_44).mean())"
   ]
  },
  {
   "cell_type": "code",
   "execution_count": 13,
   "metadata": {},
   "outputs": [
    {
     "name": "stdout",
     "output_type": "stream",
     "text": [
      "la media con 6 estratos es de: 0.04671870239602697\n"
     ]
    }
   ],
   "source": [
    "a = 0; b = 1\n",
    "u_66 = Montecarlo_est(6) #2,4,6,10\n",
    "print('la media con 6 estratos es de:', f_inv(u_66).mean())"
   ]
  },
  {
   "cell_type": "code",
   "execution_count": 14,
   "metadata": {},
   "outputs": [
    {
     "name": "stdout",
     "output_type": "stream",
     "text": [
      "la media con 10 estratos es de: 0.003580831026706743\n"
     ]
    }
   ],
   "source": [
    "a = 0; b = 1\n",
    "u_10 = Montecarlo_est(10) #2,4,6,10\n",
    "print('la media con 10 estratos es de:', f_inv(u_10).mean())"
   ]
  },
  {
   "cell_type": "markdown",
   "metadata": {},
   "source": [
    "## Conclusion\n",
    "\n",
    "Al realizar esto llendo de menos a más estratos, podemos observar que se obtiene una mayor precisión cuando el número de estratos que se utiliza es alto."
   ]
  },
  {
   "cell_type": "code",
   "execution_count": null,
   "metadata": {},
   "outputs": [],
   "source": []
  },
  {
   "cell_type": "markdown",
   "metadata": {},
   "source": [
    "## Solución Renatta "
   ]
  },
  {
   "cell_type": "markdown",
   "metadata": {},
   "source": [
    "## Solución análitica. \n",
    "\n",
    "El primer paso es encontrar la función de probabilidad acumulada, para encontrar la inversa y así generar variables aleatorias que distribuyan como f(x)\n",
    "\n",
    "Para encontrar la acumlada integramos de -1 a x de la siguiente forma \n",
    "\n",
    "$$\n",
    "F(x)= \\int _{-1} ^x \\frac{3}{2} x^2 dx= (\\frac{3}{2})(\\frac{x^3}{3})|_{-1} ^x = \\frac{1}{2} x^3 + \\frac{1}{2}\n",
    "$$\n",
    "\n",
    "Una vez encontrada la función de probabilidad acumulada, igualamos a U para encontrar la inversa. \n",
    "\n",
    "$$\n",
    "U=\\frac{1}{2} x^3 + \\frac{1}{2}\n",
    "$$\n",
    "\n",
    "$$\n",
    "\\sqrt[3]{2u-1}=x\n",
    "$$\n",
    "\n",
    "Con esta función vamos a generar los valores que distribuyen como f(x). \n",
    "\n",
    "Además el problema pide calcular la media de forma analítica:\n",
    "\n",
    "$$\n",
    "E[f(x)]=\\int_{-1}^{1} x f(x) dx = \\frac{3}{2} \\int_{-1}^{1} x^3 dx = \\frac{3}{8} (x^4)|_{-1}^1 =0\n",
    "$$\n",
    "\n",
    "Esto nos servirá de referencia para aproximar con los métodos. "
   ]
  },
  {
   "cell_type": "markdown",
   "metadata": {},
   "source": [
    "## Monte carlo crudo"
   ]
  },
  {
   "cell_type": "code",
   "execution_count": 14,
   "metadata": {},
   "outputs": [
    {
     "name": "stdout",
     "output_type": "stream",
     "text": [
      "La media con montecarlo crudo es  0.3676984728978388\n"
     ]
    }
   ],
   "source": [
    "import numpy as np \n",
    "\n",
    "np.random.seed(95555) #semilla para que no cambien los valores\n",
    "\n",
    "F_inv=lambda u: np.cbrt(2*u-1) #función inversa \n",
    "\n",
    "N=10 #cantidad de valores generados\n",
    "\n",
    "u=np.random.uniform(0,1,N) #variables aleatorias uniformes.\n",
    "\n",
    "mont_crudo=F_inv(u).mean() #evaluamos los valores en la invers y calculamos la media\n",
    "print(\"La media con montecarlo crudo es \", mont_crudo)"
   ]
  },
  {
   "cell_type": "markdown",
   "metadata": {},
   "source": [
    "## Muestreo estratificado"
   ]
  },
  {
   "cell_type": "markdown",
   "metadata": {},
   "source": [
    "En este caso como los esrtratos no son ingualmente ponderados tenemos que calcular los pesos que corresponde a cada uno, estos se muestran en la siguiente tabla. \n",
    "\n",
    "\\begin{array}{|c|c|}\n",
    "\\hline\n",
    "    Estrato & Porción & Estrato & Tamaño & Peso \\\\\\\\ \\hline\n",
    "    1 & 0 \\leq F(x) \\leq 0.6 & 0+0.6r & 3 & 0.5 \\\\\\\\ \\hline\n",
    "    2 & 0.6 < F(x) \\leq 0.9 & 0.6+0.3r & 3 & 1 \\\\\\\\ \\hline\n",
    "    3 & 0.9 < F(x) \\leq 1 & 0.9+0.1r & 4 & 4 \\\\\\\\ \\hline\n",
    "\\end{array}"
   ]
  },
  {
   "cell_type": "code",
   "execution_count": 15,
   "metadata": {},
   "outputs": [
    {
     "name": "stdout",
     "output_type": "stream",
     "text": [
      "La media con 3 estratos es  0.12860678678497178\n"
     ]
    }
   ],
   "source": [
    "np.random.seed(95555)\n",
    "r1 = np.random.uniform(0,0.6,3)\n",
    "r2 = np.random.uniform(0.6,0.9,3)\n",
    "r3 = np.random.uniform(0.9,1,4)\n",
    "r  = [r1,r2,r3] #vector con los valores de cada estrato \n",
    "m  = range(len(r)) #cantidad de estratos \n",
    "w  = [1/2,1,4] #pesos\n",
    "xi = list(map(F_inv,r)) #evaluar r en la función para obtener xi\n",
    "muestras = list(map(lambda wi,xi:xi/wi,w,xi)) #hacer divición de pesos\n",
    "muestras=np.concatenate(muestras) #extender las listas \n",
    "muest_estrat=muestras.mean() #caluclar las medias\n",
    "print(\"La media con 3 estratos es \", muest_estrat)"
   ]
  },
  {
   "cell_type": "markdown",
   "metadata": {},
   "source": [
    "## Números complementarios"
   ]
  },
  {
   "cell_type": "code",
   "execution_count": 16,
   "metadata": {},
   "outputs": [
    {
     "name": "stdout",
     "output_type": "stream",
     "text": [
      "La media con el método de números complementarios es  -0.47162846308717654\n"
     ]
    }
   ],
   "source": [
    "u_c=-u #calcular los complementarios del primer vector \n",
    "complementario=F_inv(u_c).mean() #evaluar los complementarios en la función y calculamos la media\n",
    "complementarios=(mont_crudo+complementario)/2 #aplicamos el promedio de las medias\n",
    "print(\"La media con el método de números complementarios es \", complementarios)"
   ]
  },
  {
   "cell_type": "markdown",
   "metadata": {},
   "source": [
    "## Distintos estratos"
   ]
  },
  {
   "cell_type": "code",
   "execution_count": 17,
   "metadata": {},
   "outputs": [
    {
     "name": "stdout",
     "output_type": "stream",
     "text": [
      "La media con 2 estratos es  -0.27191764587274236\n"
     ]
    }
   ],
   "source": [
    "def Montecarlo_est_dist(B: 'Número de estratos'):\n",
    "    '''Esta para generar números estratificados en un rango de 0 a 1 según el número de estratos que se indiquen'''\n",
    "    u = np.random.uniform(0,1,B) #primero generamos las v.a. que seran evaluadas en la funcion que queramos integrar\n",
    "    i = np.arange(0,B) #indica los términos, desde 0 hasta los 'B' estratos que se elijan\n",
    "    v = (u+i)/B #aplicar estratificación\n",
    "    return v\n",
    "\n",
    "muest_estrat2=Montecarlo_est_dist(2)\n",
    "muest_estrat2=F_inv(muestras2).mean()\n",
    "print(\"La media con 2 estratos es \", muest_estrat2)"
   ]
  },
  {
   "cell_type": "code",
   "execution_count": 18,
   "metadata": {},
   "outputs": [
    {
     "name": "stdout",
     "output_type": "stream",
     "text": [
      "La media con 4 estratos es  0.008592462153906438\n"
     ]
    }
   ],
   "source": [
    "muestras4=Montecarlo_est_dist(4)\n",
    "muest_estrat4=F_inv(muestras4).mean()\n",
    "print(\"La media con 4 estratos es \", muest_estrat4)"
   ]
  },
  {
   "cell_type": "code",
   "execution_count": 19,
   "metadata": {},
   "outputs": [
    {
     "name": "stdout",
     "output_type": "stream",
     "text": [
      "La media con 6 estratos es  0.03808604011131189\n"
     ]
    }
   ],
   "source": [
    "muestras6=Montecarlo_est_dist(6)\n",
    "muest_estrat6=F_inv(muestras6).mean()\n",
    "print(\"La media con 6 estratos es \", muest_estrat6)"
   ]
  },
  {
   "cell_type": "markdown",
   "metadata": {},
   "source": [
    "Para 10 estratos como es igual al número de datos ya no realizamos las ponderaciones"
   ]
  },
  {
   "cell_type": "code",
   "execution_count": 20,
   "metadata": {},
   "outputs": [
    {
     "name": "stdout",
     "output_type": "stream",
     "text": [
      "La media con 10 estratos es  -0.00037310116022758465\n"
     ]
    }
   ],
   "source": [
    "muestras10=Montecarlo_est_dist(10)\n",
    "estratos10=F_inv(muestras10).mean()\n",
    "print(\"La media con 10 estratos es \", estratos10)"
   ]
  },
  {
   "cell_type": "markdown",
   "metadata": {},
   "source": [
    "## Conclusiones"
   ]
  },
  {
   "cell_type": "markdown",
   "metadata": {},
   "source": [
    "Es fácil observar que conforme aumentamos los estratos la media se va a acercando mucho más a la media real, en este caso es difícil estimar correctamente porque estamos trabajando con muy pocos pero la diferencia con los otros métodos sí es considerable."
   ]
  }
 ],
 "metadata": {
  "kernelspec": {
   "display_name": "Python 3",
   "language": "python",
   "name": "python3"
  },
  "language_info": {
   "codemirror_mode": {
    "name": "ipython",
    "version": 3
   },
   "file_extension": ".py",
   "mimetype": "text/x-python",
   "name": "python",
   "nbconvert_exporter": "python",
   "pygments_lexer": "ipython3",
   "version": "3.8.3"
  }
 },
 "nbformat": 4,
 "nbformat_minor": 4
}
